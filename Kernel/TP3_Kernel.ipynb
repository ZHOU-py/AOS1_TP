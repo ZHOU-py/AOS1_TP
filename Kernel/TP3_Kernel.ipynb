{
 "cells": [
  {
   "cell_type": "code",
   "execution_count": 38,
   "metadata": {},
   "outputs": [
    {
     "name": "stdout",
     "output_type": "stream",
     "text": [
      "Extracting MNIST_data/train-images-idx3-ubyte.gz\n",
      "Extracting MNIST_data/train-labels-idx1-ubyte.gz\n",
      "Extracting MNIST_data/t10k-images-idx3-ubyte.gz\n",
      "Extracting MNIST_data/t10k-labels-idx1-ubyte.gz\n"
     ]
    }
   ],
   "source": [
    "import input_data\n",
    "mnist = input_data.read_data_sets(\"MNIST_data/\", one_hot=True)"
   ]
  },
  {
   "cell_type": "code",
   "execution_count": 39,
   "metadata": {},
   "outputs": [
    {
     "name": "stdout",
     "output_type": "stream",
     "text": [
      "(55000, 784)\n"
     ]
    }
   ],
   "source": [
    "print (mnist.train.images.shape)"
   ]
  },
  {
   "cell_type": "code",
   "execution_count": 42,
   "metadata": {},
   "outputs": [
    {
     "name": "stdout",
     "output_type": "stream",
     "text": [
      "<input_data._DataSet object at 0x1c33a32160>\n"
     ]
    }
   ],
   "source": [
    "print(mnist.train)"
   ]
  },
  {
   "cell_type": "markdown",
   "metadata": {},
   "source": [
    "# Loading data minist"
   ]
  },
  {
   "cell_type": "markdown",
   "metadata": {},
   "source": [
    "###  we might have guessed 60000 represents the number of images in the train dataset and (28, 28) represents the size of the image: 28 x 28 pixel."
   ]
  },
  {
   "cell_type": "code",
   "execution_count": 3,
   "metadata": {},
   "outputs": [],
   "source": [
    "import tensorflow as tf\n",
    "(x_train, y_train), (x_test, y_test) = tf.keras.datasets.mnist.load_data()"
   ]
  },
  {
   "cell_type": "code",
   "execution_count": 4,
   "metadata": {
    "scrolled": true
   },
   "outputs": [
    {
     "name": "stdout",
     "output_type": "stream",
     "text": [
      "8\n"
     ]
    },
    {
     "data": {
      "text/plain": [
       "<matplotlib.image.AxesImage at 0x645281358>"
      ]
     },
     "execution_count": 4,
     "metadata": {},
     "output_type": "execute_result"
    }
   ],
   "source": [
    "import matplotlib.pyplot as plt\n",
    "#x_train and x_test parts contain greyscale RGB codes (from 0 to 255) \n",
    "#while y_train and y_test parts contains labels from 0 to 9 which represents which number they actually are. \n",
    "image_index = 7777 # select anything up to 60,000\n",
    "print(y_train[image_index]) # The label is 8\n",
    "plt.imshow(x_train[image_index], cmap='Greys')\n",
    "# we will get the greyscale visualization of the RGB codes as shown below."
   ]
  },
  {
   "cell_type": "code",
   "execution_count": 5,
   "metadata": {},
   "outputs": [
    {
     "data": {
      "text/plain": [
       "(60000, 28, 28)"
      ]
     },
     "execution_count": 5,
     "metadata": {},
     "output_type": "execute_result"
    }
   ],
   "source": [
    "x_train.shape \n",
    "#we might have guessed 60000 represents the number of images in the train dataset and (28, 28) represents the size of the image: 28 x 28 pixel."
   ]
  },
  {
   "cell_type": "markdown",
   "metadata": {},
   "source": [
    "# Support Vector Classifier"
   ]
  },
  {
   "cell_type": "code",
   "execution_count": 6,
   "metadata": {},
   "outputs": [],
   "source": [
    "from sklearn.svm import SVC # \"Support vector classifier\"\n",
    "import numpy as np\n",
    "from sklearn.metrics import accuracy_score"
   ]
  },
  {
   "cell_type": "code",
   "execution_count": 7,
   "metadata": {},
   "outputs": [],
   "source": [
    "X_train = np.reshape(x_train,(60000, -1))"
   ]
  },
  {
   "cell_type": "code",
   "execution_count": 8,
   "metadata": {},
   "outputs": [
    {
     "data": {
      "text/plain": [
       "(60000, 784)"
      ]
     },
     "execution_count": 8,
     "metadata": {},
     "output_type": "execute_result"
    }
   ],
   "source": [
    "X_train.shape"
   ]
  },
  {
   "cell_type": "code",
   "execution_count": 9,
   "metadata": {},
   "outputs": [
    {
     "data": {
      "text/plain": [
       "(10000, 784)"
      ]
     },
     "execution_count": 9,
     "metadata": {},
     "output_type": "execute_result"
    }
   ],
   "source": [
    "x_test.shape\n",
    "X_test = np.reshape(x_test,(10000, -1))\n",
    "X_test.shape"
   ]
  },
  {
   "cell_type": "code",
   "execution_count": 10,
   "metadata": {},
   "outputs": [
    {
     "data": {
      "text/plain": [
       "array([5, 0, 4, ..., 5, 6, 8], dtype=uint8)"
      ]
     },
     "execution_count": 10,
     "metadata": {},
     "output_type": "execute_result"
    }
   ],
   "source": [
    "y_train"
   ]
  },
  {
   "cell_type": "code",
   "execution_count": 11,
   "metadata": {},
   "outputs": [],
   "source": [
    "y_train = y_train.astype(np.int32)\n",
    "y_test = y_test.astype(np.int32)"
   ]
  },
  {
   "cell_type": "markdown",
   "metadata": {},
   "source": [
    "### We use the number '0' for example"
   ]
  },
  {
   "cell_type": "code",
   "execution_count": 11,
   "metadata": {},
   "outputs": [],
   "source": [
    "Y_train0 = y_train.copy()\n",
    "Y_test0 = y_test.copy()\n",
    "\n",
    "Y_train0[Y_train0!=0] = -1\n",
    "Y_train0[Y_train0==0] = 1\n",
    "Y_test0[Y_test0!=0] = -1\n",
    "Y_test0[Y_test0==0] = 1"
   ]
  },
  {
   "cell_type": "markdown",
   "metadata": {},
   "source": [
    "### We start by summarizing the results of the virtual support vector method. We trained ten binary classifiers using C =10. We used a polynomial kernel K(x, y) = (x· y)5."
   ]
  },
  {
   "cell_type": "code",
   "execution_count": 43,
   "metadata": {},
   "outputs": [
    {
     "data": {
      "text/plain": [
       "SVC(C=10, cache_size=200, class_weight=None, coef0=0.0,\n",
       "    decision_function_shape='ovr', degree=5, gamma='auto', kernel='poly',\n",
       "    max_iter=-1, probability=False, random_state=None, shrinking=True,\n",
       "    tol=0.001, verbose=False)"
      ]
     },
     "execution_count": 43,
     "metadata": {},
     "output_type": "execute_result"
    }
   ],
   "source": [
    "svmpoly0 = SVC(C = 10, kernel = 'poly', degree=5, gamma ='auto')\n",
    "svmpoly0.fit(X_train, Y_train0)"
   ]
  },
  {
   "cell_type": "code",
   "execution_count": 44,
   "metadata": {},
   "outputs": [
    {
     "data": {
      "text/plain": [
       "(1760, 784)"
      ]
     },
     "execution_count": 44,
     "metadata": {},
     "output_type": "execute_result"
    }
   ],
   "source": [
    "svmpoly0.support_vectors_.shape"
   ]
  },
  {
   "cell_type": "code",
   "execution_count": 45,
   "metadata": {},
   "outputs": [
    {
     "name": "stdout",
     "output_type": "stream",
     "text": [
      "Nsv ORIG 1760\n"
     ]
    }
   ],
   "source": [
    "sv0 = svmpoly0.support_vectors_  #Support vectors.\n",
    "print(\"Nsv ORIG\", sv0.shape[0])"
   ]
  },
  {
   "cell_type": "code",
   "execution_count": 15,
   "metadata": {},
   "outputs": [],
   "source": [
    "sv0_index = svmpoly0.support_     #Number of support vectors for each class."
   ]
  },
  {
   "cell_type": "code",
   "execution_count": 16,
   "metadata": {},
   "outputs": [
    {
     "data": {
      "text/plain": [
       "array([   18,    80,   158, ..., 59653, 59681, 59934], dtype=int32)"
      ]
     },
     "execution_count": 16,
     "metadata": {},
     "output_type": "execute_result"
    }
   ],
   "source": [
    "sv0_index"
   ]
  },
  {
   "cell_type": "code",
   "execution_count": 17,
   "metadata": {},
   "outputs": [],
   "source": [
    "sv0_label = Y_train0[sv0_index]"
   ]
  },
  {
   "cell_type": "code",
   "execution_count": 18,
   "metadata": {},
   "outputs": [],
   "source": [
    "y_pred0 = svmpoly0.predict(X_test)"
   ]
  },
  {
   "cell_type": "code",
   "execution_count": 19,
   "metadata": {},
   "outputs": [
    {
     "name": "stdout",
     "output_type": "stream",
     "text": [
      "0.9958\n"
     ]
    }
   ],
   "source": [
    "from sklearn.metrics import accuracy_score\n",
    "print(accuracy_score(Y_test0, y_pred0))"
   ]
  },
  {
   "cell_type": "code",
   "execution_count": 28,
   "metadata": {},
   "outputs": [
    {
     "name": "stdout",
     "output_type": "stream",
     "text": [
      "42\n"
     ]
    }
   ],
   "source": [
    "print(\"NE ORIG\",len(Y_test0[Y_test0!=y_pred0]))"
   ]
  },
  {
   "cell_type": "markdown",
   "metadata": {},
   "source": [
    "# One pixel in 4 direction pan"
   ]
  },
  {
   "cell_type": "markdown",
   "metadata": {},
   "source": [
    "### We then generated new training data by translating the resulting support vectors by one pixel in each of four directions, and trained a new machine (using the same parameters). "
   ]
  },
  {
   "cell_type": "code",
   "execution_count": 29,
   "metadata": {},
   "outputs": [],
   "source": [
    "sv0_28 = np.reshape(sv0,(-1, 28, 28))"
   ]
  },
  {
   "cell_type": "code",
   "execution_count": 30,
   "metadata": {},
   "outputs": [],
   "source": [
    "sv0_newR = np.zeros((1760,28, 28))\n",
    "sv0_newR[:, :, 1:28]= sv0_28[:, :, 0:27]\n",
    "trans_R = sv0_newR"
   ]
  },
  {
   "cell_type": "code",
   "execution_count": 31,
   "metadata": {},
   "outputs": [],
   "source": [
    "sv0_newL = np.zeros((1760,28, 28))\n",
    "sv0_newL[:, :, 0:27]= sv0_28[:, :, 1:28]\n",
    "trans_L = sv0_newL"
   ]
  },
  {
   "cell_type": "code",
   "execution_count": 32,
   "metadata": {},
   "outputs": [],
   "source": [
    "sv0_newD = np.zeros((1760,28, 28))\n",
    "sv0_newD[:, 1:28, :]= sv0_28[:, 0:27, :]\n",
    "trans_D = sv0_newD"
   ]
  },
  {
   "cell_type": "code",
   "execution_count": 33,
   "metadata": {},
   "outputs": [],
   "source": [
    "sv0_newU = np.zeros((1760,28, 28))\n",
    "sv0_newU[:, 0:27, :]= sv0_28[:, 1:28, :]\n",
    "trans_U = sv0_newU"
   ]
  },
  {
   "cell_type": "code",
   "execution_count": 34,
   "metadata": {},
   "outputs": [],
   "source": [
    "sv0_new_con = np.concatenate((trans_R,trans_L,trans_D,trans_U),axis=0)"
   ]
  },
  {
   "cell_type": "code",
   "execution_count": 35,
   "metadata": {},
   "outputs": [],
   "source": [
    "new_y_train0 = np.tile(sv0_label,4)"
   ]
  },
  {
   "cell_type": "markdown",
   "metadata": {},
   "source": [
    "### Train a new machine by using the same parameters"
   ]
  },
  {
   "cell_type": "code",
   "execution_count": 36,
   "metadata": {},
   "outputs": [],
   "source": [
    "sv0_new_con = np.reshape(sv0_new_con,(7040, -1))"
   ]
  },
  {
   "cell_type": "code",
   "execution_count": 37,
   "metadata": {},
   "outputs": [
    {
     "data": {
      "text/plain": [
       "SVC(C=10, cache_size=200, class_weight=None, coef0=0.0,\n",
       "    decision_function_shape='ovr', degree=5, gamma='auto', kernel='poly',\n",
       "    max_iter=-1, probability=False, random_state=None, shrinking=True,\n",
       "    tol=0.001, verbose=False)"
      ]
     },
     "execution_count": 37,
     "metadata": {},
     "output_type": "execute_result"
    }
   ],
   "source": [
    "svmpoly0 = SVC(C=10, kernel = 'poly', gamma ='auto', degree=5 )\n",
    "#svmpoly0 = SVC(kernel = 'poly', gamma ='auto' )  Higher accuracy when 'C' and 'degree' are not specified\n",
    "svmpoly0.fit(sv0_new_con, new_y_train0)"
   ]
  },
  {
   "cell_type": "code",
   "execution_count": null,
   "metadata": {},
   "outputs": [],
   "source": [
    "VSV = svmpoly0.support_vectors_\n",
    "print(\"Nsv VSV\",VSV.shape[0])"
   ]
  },
  {
   "cell_type": "code",
   "execution_count": 38,
   "metadata": {},
   "outputs": [],
   "source": [
    "y_pred0_new = svmpoly0.predict(X_test)"
   ]
  },
  {
   "cell_type": "code",
   "execution_count": 40,
   "metadata": {},
   "outputs": [
    {
     "name": "stdout",
     "output_type": "stream",
     "text": [
      "0.9976\n",
      "NE ORIG 24\n"
     ]
    }
   ],
   "source": [
    "from sklearn.metrics import accuracy_score\n",
    "print(accuracy_score(Y_test0, y_pred0_new))\n",
    "print(\"NE VSV\",len(Y_test0[Y_test0!=y_pred0_new]))"
   ]
  },
  {
   "cell_type": "markdown",
   "metadata": {},
   "source": [
    "## For the number from 0 to 9"
   ]
  },
  {
   "cell_type": "code",
   "execution_count": 12,
   "metadata": {},
   "outputs": [
    {
     "name": "stdout",
     "output_type": "stream",
     "text": [
      "Digital is  0\n",
      "Nsv ORIG for digital 0 is 1760\n",
      "ORIG accuracy_score:  0.9958\n",
      "NE ORIG for digital 0 is:  42\n",
      "Nsv VSV for digital 0 is:  4004\n",
      "VSV accuracy_score:  0.9976\n",
      "NE VSV for digital 0 is:  24\n",
      "Digital is  1\n",
      "Nsv ORIG for digital 1 is 1393\n",
      "ORIG accuracy_score:  0.9959\n",
      "NE ORIG for digital 1 is:  41\n",
      "Nsv VSV for digital 1 is:  3067\n",
      "VSV accuracy_score:  0.9967\n",
      "NE VSV for digital 1 is:  33\n",
      "Digital is  2\n",
      "Nsv ORIG for digital 2 is 2856\n",
      "ORIG accuracy_score:  0.9923\n",
      "NE ORIG for digital 2 is:  77\n",
      "Nsv VSV for digital 2 is:  6465\n",
      "VSV accuracy_score:  0.9948\n",
      "NE VSV for digital 2 is:  52\n",
      "Digital is  3\n",
      "Nsv ORIG for digital 3 is 3159\n",
      "ORIG accuracy_score:  0.9928\n",
      "NE ORIG for digital 3 is:  72\n",
      "Nsv VSV for digital 3 is:  7104\n",
      "VSV accuracy_score:  0.9954\n",
      "NE VSV for digital 3 is:  46\n",
      "Digital is  4\n",
      "Nsv ORIG for digital 4 is 2431\n",
      "ORIG accuracy_score:  0.9927\n",
      "NE ORIG for digital 4 is:  73\n",
      "Nsv VSV for digital 4 is:  5472\n",
      "VSV accuracy_score:  0.9954\n",
      "NE VSV for digital 4 is:  46\n",
      "Digital is  5\n",
      "Nsv ORIG for digital 5 is 2746\n",
      "ORIG accuracy_score:  0.9934\n",
      "NE ORIG for digital 5 is:  66\n",
      "Nsv VSV for digital 5 is:  6393\n",
      "VSV accuracy_score:  0.9961\n",
      "NE VSV for digital 5 is:  39\n",
      "Digital is  6\n",
      "Nsv ORIG for digital 6 is 1802\n",
      "ORIG accuracy_score:  0.9943\n",
      "NE ORIG for digital 6 is:  57\n",
      "Nsv VSV for digital 6 is:  4053\n",
      "VSV accuracy_score:  0.9952\n",
      "NE VSV for digital 6 is:  48\n",
      "Digital is  7\n",
      "Nsv ORIG for digital 7 is 2381\n",
      "ORIG accuracy_score:  0.9923\n",
      "NE ORIG for digital 7 is:  77\n",
      "Nsv VSV for digital 7 is:  5535\n",
      "VSV accuracy_score:  0.9939\n",
      "NE VSV for digital 7 is:  61\n",
      "Digital is  8\n",
      "Nsv ORIG for digital 8 is 3548\n",
      "ORIG accuracy_score:  0.9926\n",
      "NE ORIG for digital 8 is:  74\n",
      "Nsv VSV for digital 8 is:  8354\n",
      "VSV accuracy_score:  0.9957\n",
      "NE VSV for digital 8 is:  43\n",
      "Digital is  9\n",
      "Nsv ORIG for digital 9 is 3377\n",
      "ORIG accuracy_score:  0.9922\n",
      "NE ORIG for digital 9 is:  78\n",
      "Nsv VSV for digital 9 is:  7938\n",
      "VSV accuracy_score:  0.9943\n",
      "NE VSV for digital 9 is:  57\n"
     ]
    }
   ],
   "source": [
    "for i in range(0,10,1):\n",
    "    print(\"Digital is \",i)\n",
    "    Y_train = y_train.copy()\n",
    "    Y_test = y_test.copy()\n",
    "\n",
    "    Y_train[Y_train!=i] = -1\n",
    "    Y_train[Y_train==i] = 1\n",
    "    Y_test[Y_test!=i] = -1\n",
    "    Y_test[Y_test==i] = 1\n",
    "    \n",
    "    svmpoly = SVC(C = 10, kernel = 'poly', degree=5, gamma ='auto')\n",
    "    svmpoly.fit(X_train, Y_train)\n",
    "    \n",
    "    sv = svmpoly.support_vectors_ \n",
    "    print(\"Nsv ORIG for digital\",i, \"is\", sv.shape[0])\n",
    "    \n",
    "    y_pred = svmpoly.predict(X_test)\n",
    "    print(\"ORIG accuracy_score: \",accuracy_score(Y_test, y_pred))\n",
    "    print(\"NE ORIG for digital\",i , \"is: \", len(Y_test[Y_test!=y_pred]))\n",
    "    \n",
    "    sv_index = svmpoly.support_\n",
    "    sv_label = Y_train[sv_index]\n",
    "    \n",
    "    sv_28 = np.reshape(sv,(-1, 28, 28))\n",
    "    \n",
    "    sv_newR = np.zeros((sv.shape[0],28, 28))\n",
    "    sv_newR[:, :, 1:28]= sv_28[:, :, 0:27]\n",
    "    trans_R = sv_newR\n",
    "    \n",
    "    sv_newL = np.zeros((sv.shape[0],28, 28))\n",
    "    sv_newL[:, :, 0:27]= sv_28[:, :, 1:28]\n",
    "    trans_L = sv_newL\n",
    "    \n",
    "    sv_newD = np.zeros((sv.shape[0],28, 28))\n",
    "    sv_newD[:, 1:28, :]= sv_28[:, 0:27, :]\n",
    "    trans_D = sv_newD\n",
    "    \n",
    "    sv_newU = np.zeros((sv.shape[0],28, 28))\n",
    "    sv_newU[:, 0:27, :]= sv_28[:, 1:28, :]\n",
    "    trans_U = sv_newU\n",
    "    \n",
    "    sv_new_con = np.concatenate((trans_R,trans_L,trans_D,trans_U),axis=0)\n",
    "    new_y_train = np.tile(sv_label,4)\n",
    "    \n",
    "    sv_new_con = np.reshape(sv_new_con,(sv.shape[0]*4, -1))\n",
    "    svmpoly = SVC(C=10, kernel = 'poly', gamma ='auto', degree=5 )\n",
    "    #svmpoly = SVC(kernel = 'poly', gamma ='auto' )  Higher accuracy when 'C' and 'degree' are not specified\n",
    "    svmpoly.fit(sv_new_con, new_y_train)\n",
    "    vsv = svmpoly.support_vectors_ \n",
    "    print(\"Nsv VSV for digital\",i, \"is: \", vsv.shape[0]) \n",
    "    \n",
    "    y_pred_new = svmpoly.predict(X_test)\n",
    "    print(\"VSV accuracy_score: \",accuracy_score(Y_test, y_pred_new))\n",
    "    print(\"NE VSV for digital\",i , \"is: \", len(Y_test[Y_test!=y_pred_new]))"
   ]
  },
  {
   "cell_type": "code",
   "execution_count": null,
   "metadata": {},
   "outputs": [],
   "source": []
  }
 ],
 "metadata": {
  "kernelspec": {
   "display_name": "Python 3",
   "language": "python",
   "name": "python3"
  },
  "language_info": {
   "codemirror_mode": {
    "name": "ipython",
    "version": 3
   },
   "file_extension": ".py",
   "mimetype": "text/x-python",
   "name": "python",
   "nbconvert_exporter": "python",
   "pygments_lexer": "ipython3",
   "version": "3.7.3"
  }
 },
 "nbformat": 4,
 "nbformat_minor": 2
}
